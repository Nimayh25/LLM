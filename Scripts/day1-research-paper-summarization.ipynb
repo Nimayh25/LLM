{
 "cells": [
  {
   "cell_type": "markdown",
   "id": "1b8f7ac7-7089-427a-8f63-57211da7e691",
   "metadata": {},
   "source": [
    "## Summarizing Research Papers"
   ]
  },
  {
   "cell_type": "code",
   "execution_count": 1,
   "id": "641d5c00-ff09-4697-9c87-5de5df1469f8",
   "metadata": {},
   "outputs": [],
   "source": [
    "# imports\n",
    "\n",
    "import os\n",
    "import requests\n",
    "from dotenv import load_dotenv\n",
    "from bs4 import BeautifulSoup\n",
    "from IPython.display import Markdown, display\n",
    "from openai import OpenAI\n",
    "\n",
    "# If you get an error running this cell, then please head over to the troubleshooting notebook!"
   ]
  },
  {
   "cell_type": "code",
   "execution_count": 2,
   "id": "1a6a2864-fd9d-43e2-b0ca-1476c0153077",
   "metadata": {},
   "outputs": [
    {
     "name": "stdout",
     "output_type": "stream",
     "text": [
      "API key found and looks good so far!\n"
     ]
    }
   ],
   "source": [
    "# Load environment variables in a file called .env\n",
    "\n",
    "load_dotenv(override=True)\n",
    "api_key = os.getenv('OPENAI_API_KEY')\n",
    "\n",
    "# Check the key\n",
    "\n",
    "if not api_key:\n",
    "    print(\"No API key was found - please head over to the troubleshooting notebook in this folder to identify & fix!\")\n",
    "elif not api_key.startswith(\"sk-proj-\"):\n",
    "    print(\"An API key was found, but it doesn't start sk-proj-; please check you're using the right key - see troubleshooting notebook\")\n",
    "elif api_key.strip() != api_key:\n",
    "    print(\"An API key was found, but it looks like it might have space or tab characters at the start or end - please remove them - see troubleshooting notebook\")\n",
    "else:\n",
    "    print(\"API key found and looks good so far!\")\n"
   ]
  },
  {
   "cell_type": "code",
   "execution_count": 3,
   "id": "340e3166-5aa7-4bcf-9cf0-e2fc776dc322",
   "metadata": {},
   "outputs": [],
   "source": [
    "openai = OpenAI()"
   ]
  },
  {
   "cell_type": "code",
   "execution_count": 4,
   "id": "73198fb7-581f-42ac-99a6-76c56c86248d",
   "metadata": {},
   "outputs": [],
   "source": [
    "# A class to represent a Webpage\n",
    "# If you're not familiar with Classes, check out the \"Intermediate Python\" notebook\n",
    "\n",
    "# Some websites need you to use proper headers when fetching them:\n",
    "headers = {\n",
    " \"User-Agent\": \"Mozilla/5.0 (Windows NT 10.0; Win64; x64) AppleWebKit/537.36 (KHTML, like Gecko) Chrome/117.0.0.0 Safari/537.36\"\n",
    "}\n",
    "\n",
    "class Paper:\n",
    "\n",
    "    def __init__(self, url):\n",
    "        \"\"\"\n",
    "        Create this Website object from the given url using the BeautifulSoup library\n",
    "        \"\"\"\n",
    "        self.url = url\n",
    "        response = requests.get(url, headers=headers)\n",
    "        soup = BeautifulSoup(response.content, 'html.parser')\n",
    "        self.title = soup.title.string if soup.title else \"No title found\"\n",
    "        for irrelevant in soup.body([\"script\", \"style\", \"img\", \"input\"]):\n",
    "            irrelevant.decompose()\n",
    "        self.text = soup.body.get_text(separator=\"\\n\", strip=True)"
   ]
  },
  {
   "cell_type": "code",
   "execution_count": 5,
   "id": "3b39c3ad-d238-418e-9e6a-55a4fd717ebc",
   "metadata": {},
   "outputs": [],
   "source": [
    "#Insert Paper URL\n",
    "res = Paper(\"https://pmc.ncbi.nlm.nih.gov/articles/PMC8129774/\")"
   ]
  },
  {
   "cell_type": "code",
   "execution_count": 6,
   "id": "83bc1eec-4187-4c6c-b188-3f72564351f1",
   "metadata": {},
   "outputs": [],
   "source": [
    "system_prompt = \"\"\"You are a research paper summarizer. You take the url of the research paper and extract the following:\n",
    "1) Title and Author of the research paper.\n",
    "2) Year it was published it\n",
    "3) Objective or aim of the research to specify why the research was conducted\n",
    "4) Background or Introduction to explain the need to conduct this research or any topics the readers must have knowledge about\n",
    "5) Type of research/study/experiment to explain what kind of research it is.\n",
    "6) Methods or methodology to explain what the researchers did to conduct the research\n",
    "7) Results and key findings to explain what the researchers found\n",
    "8) Conclusion tells about the conclusions that can be drawn from this research including limitations and future direction\"\"\""
   ]
  },
  {
   "cell_type": "code",
   "execution_count": 7,
   "id": "4aba1b51-9a72-4325-8c86-3968b9d3172e",
   "metadata": {},
   "outputs": [],
   "source": [
    "# A function that writes a User Prompt that asks for summaries of websites:\n",
    "\n",
    "def user_prompt_for(paper):\n",
    "    user_prompt = f\"You are looking at a website titled {paper.title}\"\n",
    "    user_prompt += \"\\nThe contents of this paper is as follows; \\\n",
    "please provide a short summary of this paper in markdown. \\\n",
    "If it includes additional headings, then summarize these too.\\n\\n\"\n",
    "    user_prompt += paper.text\n",
    "    return user_prompt"
   ]
  },
  {
   "cell_type": "code",
   "execution_count": 8,
   "id": "659cb3c4-8a02-493d-abe7-20da9219e358",
   "metadata": {},
   "outputs": [],
   "source": [
    "# See how this function creates exactly the format above\n",
    "def messages_for(paper):\n",
    "    return [\n",
    "        {\"role\": \"system\", \"content\": system_prompt},\n",
    "        {\"role\": \"user\", \"content\": user_prompt_for(paper)}\n",
    "    ]"
   ]
  },
  {
   "cell_type": "code",
   "execution_count": 9,
   "id": "08ea1193-1bbb-40de-ba64-d02ffe109372",
   "metadata": {},
   "outputs": [
    {
     "data": {
      "text/plain": [
       "[{'role': 'system',\n",
       "  'content': 'You are a research paper summarizer. You take the url of the research paper and extract the following:\\n1) Title and Author of the research paper.\\n2) Year it was published it\\n3) Objective or aim of the research to specify why the research was conducted\\n4) Background or Introduction to explain the need to conduct this research or any topics the readers must have knowledge about\\n5) Type of research/study/experiment to explain what kind of research it is.\\n6) Methods or methodology to explain what the researchers did to conduct the research\\n7) Results and key findings to explain what the researchers found\\n8) Conclusion tells about the conclusions that can be drawn from this research including limitations and future direction'},\n",
       " {'role': 'user',\n",
       "  'content': \"You are looking at a website titled \\n            Effectiveness of diabetes self-management education (DSME) in type 2 diabetes mellitus (T2DM) patients: Systematic literature review - PMC\\n        \\nThe contents of this paper is as follows; please provide a short summary of this paper in markdown. If it includes additional headings, then summarize these too.\\n\\nSkip to main content\\nAn official website of the United States government\\nHere's how you know\\nHere's how you know\\nOfficial websites use .gov\\nA\\n.gov\\nwebsite belongs to an official\\n                            government organization in the United States.\\nSecure .gov websites use HTTPS\\nA\\nlock\\n(\\nLock\\nLocked padlock icon\\n) or\\nhttps://\\nmeans you've safely\\n                                connected to the .gov website. Share sensitive\\n                                information only on official, secure websites.\\nSearch\\nLog in\\nDashboard\\nPublications\\nAccount settings\\nLog out\\nSearch…\\nSearch NCBI\\nPrimary site navigation\\nSearch\\nLogged in as:\\nDashboard\\nPublications\\nAccount settings\\nLog in\\nSearch PMC Full-Text Archive\\nSearch in PMC\\nAdvanced Search\\nJournal List\\nUser Guide\\nNew\\nTry this search in PMC Beta Search\\nPERMALINK\\nCopy\\nAs a library, NLM provides access to scientific literature. Inclusion in an NLM database does not imply endorsement of, or agreement with,\\n    the contents by NLM or the National Institutes of Health.\\nLearn more:\\nPMC Disclaimer\\n|\\nPMC Copyright Notice\\nJ Public Health Res\\n. 2021 Apr 14;10(2):2240. doi:\\n10.4081/jphr.2021.2240\\nSearch in PMC\\nSearch in PubMed\\nView in NLM Catalog\\nAdd to search\\nEffectiveness of diabetes self-management education (DSME) in type 2 diabetes mellitus (T2DM) patients: Systematic literature review\\nUcik Ernawati\\nUcik Ernawati\\n1\\nSchool of Nursing, Faculty of Medicine, Universitas Brawijaya, Malang, Indonesia\\nFind articles by\\nUcik Ernawati\\n1,\\n✉\\n,\\nTitin Andri Wihastuti\\nTitin Andri Wihastuti\\n1\\nSchool of Nursing, Faculty of Medicine, Universitas Brawijaya, Malang, Indonesia\\nFind articles by\\nTitin Andri Wihastuti\\n1\\n,\\nYulian Wiji Utami\\nYulian Wiji Utami\\n1\\nSchool of Nursing, Faculty of Medicine, Universitas Brawijaya, Malang, Indonesia\\nFind articles by\\nYulian Wiji Utami\\n1\\nAuthor information\\nArticle notes\\nCopyright and License information\\n1\\nSchool of Nursing, Faculty of Medicine, Universitas Brawijaya, Malang, Indonesia\\n✉\\nSchool of Nursing, Faculty of Medicine, Universitas Brawijaya, Jl. Puncak Dieng, Kunci, Kalisongo, Kec. Dau, Malang, East Java 65151, Indonesia. Tel. +62.341569117 - +62.341564755.\\nucikerna@student.ub.ac.id\\nContributions:\\nUE, conception, design, acquisition of data, interpretation of results and final write-up of this manuscript; TAW, YWU, supervised the author’s masters’ research project and reviewed the manuscript for publication.\\nConflict of interest:\\nThe authors declare no potential conflict of interest.\\nEthical Approval:\\nNot applicable.\\nConference presentation:\\nPart of this study was presented at the 1\\nst\\nInternational Nursing and Health Sciences Symposium, November 13\\nth\\nto 15\\nth\\n2020, Brawijaya University, Malang, Indonesia.\\nReceived 2021 Jan 16; Accepted 2021 Mar 24; Collection date 2021 Apr 15.\\n©Copyright: the Author(s)\\nThis is an Open Access article distributed under the terms of the Creative Commons Attribution Non-Commercial License (\\nhttp://creativecommons.org/licenses/by-nc/4.0/\\n) which permits unrestricted non-commercial use, distribution, and reproduction in any medium, provided the original work is properly cited.\\nPMC Copyright notice\\nPMCID: PMC8129774\\xa0\\xa0PMID:\\n33855427\\nAbstract\\nDiabetes mellitus is a chronic disease characterized by high glucose levels (hyperglycemia) due to metabolic disorders that prevent patients from producing sufficient amounts of insulin. This research aims to test the effectiveness of implementing diabetes self-management education in patients with Type 2 diabetes mellitus. The search for relevant articles was carried out through Google Scholar, PubMed, ProQuest, and Science Direct using the keywords diabetes mellitus, management education, self-care, diabetes self-management education, DSME, T2DM. The articles were then selected based on inclusion and exclusion criteria. Furthermore, the data were extracted, grouped, and concluded. Based on 15 articles, diabetes self-management education intervention provides significant effectiveness to lifestyle changes and the self-care of T2DM patients. In conclusion, diabetes self-management education intervention has been shown to be effective in dealing with type 2 diabetes mellitus. Furthermore, DSME has a positive effect on lifestyle changes and the self-care of T2DM patients.\\nSignificance for public health.\\nGlobally, there are various pillars of diabetes mellitus management. One of the important pillars for the prevention and management is education. When properly carried out, it provides benefits to people with diabetes mellitus. Furthermore, the Association of Diabetes Care and Education (AADE) has guidelines for diabetes self-management education (DSME). In reality, there are many health workers that provide education without paying attention to these guidelines. Therefore, this study on the effectiveness of diabetes self-management education (DSME) would provide information regarding the importance of using these guidelines.\\nKey words:\\nDiabetes mellitus, management education, self-care, diabetes self-management education\\nIntroduction\\nDiabetes mellitus (DM) is a chronic disease characterized by high glucose levels (hyperglycemia) due to metabolic disorders that prevent the patient from producing sufficient amounts of insulin. The disease can be prevented and controlled by engaging in certain behaviors and lifestyles such as regular exercise, healthy eating patterns, avoiding smoking, and controlling fat and glucose in the blood.\\n1\\nThe World Health Organization stated that the number of people living with diabetes mellitus (DM) worldwide reached 422 million, and every year 1.6 million deaths are recorded.\\n2\\nThe prevalence of the disease in the world is estimated to reach 642 million people by 2040. In 2019, the countries with the highest number of DM sufferers were China, India, the United States, Pakistan, Brazil, Mexico, and Indonesia, with an estimated number of 10 million patients.\\n3\\nThe number of people living with diabetes could be much greater than the prevalence described, because most sufferers only seek medical help after complications occur. The rising prevalence of diabetes mellitus is due to several factors, such as unhealthy behavior.\\n1\\nThis behavior is still rampart in Indonesian society, and is evidenced by the results of the Basic Health Research 2018,\\n1\\nwhere 13.6% of the residents were overweight, 21.8% had obesity, and 31% central obesity. Other unhealthy habits include the use of tobacco by men (62.9%) and smoking by adolescents (10-18 years) (23.91%).\\n4\\nThere are seven major behaviors related to diabetes self-care management, they include diet, physical activity, monitoring blood glucose levels, adherence to proper medication consumption, good problem solving, coping skills, and risk reduction behavior.\\n5\\nContinuous selfcare will reduce the incidence of DM complications. However, most DM sufferers do not practice adequate self-care techniques such as controlling fasting blood glucose levels.\\n6\\nDM management focuses on several aspects, namely education, meal planning, changes in lifestyle, physical activity, habits.\\n7\\nOne study explained that educational interventions influence knowledge, physical activity, food intake, self-efficacy, and health literacy.\\n8\\nDiabetes self-management education (DSME) plays a key role in empowering people with diabetes to engage and sustain lifestyle changes, which have been shown to improve health outcomes. DSME is the process of facilitating the knowledge, attitudes, and abilities necessary for self-management.\\n9\\nIn addition to this, DSME play an important role in influencing the self-care practices of patients with diabetes mellitus. Based on this phenomenon, a literature review was prepared to highlight effectiveness of DSME on T2DM.\\nDesign and Methods\\nThe collection and review of articles was carried during the month of October 2020. Furthermore, published articles were obtained through several electronic databases, such as Google Scholar, PubMed, ProQuest, and ScienceDirect using the keywords diabetes mellitus, self-care, diabetes self-management education, and DSME. The articles obtained from these databases were then selected based on the inclusion and exclusion criteria in order to obtain relevant articles. In addition to this, articles designs were selected using cross-sectional, randomized controlled trials (RCT), systematic reviews, and quasi-experimental studies. Subsequently, the data was then extracted, grouped, and concluded; 137 articles were obtained through the selection process (inclusion and exclusion criteria) (\\nTable 1\\n). These articles were then assessed for criticism and 15 were found to be relevant to the criteria.\\nResults and discussions\\nThe effectiveness of DSME in T2DM is the main focus of this literature review. The heterogeneity of DSME implementation were seen based on the number of sessions, the time span, and the methods used. The study presented 6 articles with homogeneous results showing that DSME has a good effect on T2DM patients (\\nTable 2\\n).\\nTable 1.\\nInclusion and exclusion criteria.\\nInclusion\\nExclusion\\n1. Research related to diabetes self-management education (DSME) or diabetes self-management education (DSME), DM management and self-care\\n1. Publications in the form of news, quotes, abstracts, and editorial only.\\n2. Research provides information regarding the effects of DSME\\n2. Research does not contain all components of the journal\\n3. The full text is available in English or Indonesian\\n3. The text is not in English or Indonesian\\n4. Q1-Q3 qualified journal\\n4. Unqualified journals Q1-Q3\\nOpen in a new tab\\nTable 2.\\nArticle review result.\\nNo.\\nTitle\\nResearcher (Year)\\nResearch purposes\\nDesign\\nSample\\n1\\nParticipation in structured diabetes mellitus self-management education program and association with lifestyle behavior: results from a population-based study\\nCarmienke S, Baumert J, Gabrys L,\\net al.\\n(2020)\\nWhether participation in structured diabetes self-management education (DSME) programs for participants with diabetes mellitus is associated with healthy lifestyles in routine care apart from randomized controlled studies remains unclear and is a question of this study.\\nCross-sectional population-based analysis\\n15 participants\\n2\\nDiabetes self-management education (DSME) - Effect on knowledge, self-care behavior, and self-efficacy among type 2 diabetes patients in Ethiopia: A controlled clinical trial\\nHailu FB, Moen A, Hjortdahl P (2019)\\nDiabetic patients must be equipped with the necessary knowledge to perform self-care activities according to confidence. Researchers prepared a diabetes self-management education (DSME) intervention and assessed how this influenced diabetes knowledge levels, self-care behavior, and self-reported patient self-efficacy.\\nQuasi-Experiment\\n220 participants\\n3\\nEffect of diabetes self-management education on glycemic control among type 2 diabetic patients at a family medicine clinic in Kenya: A randomized controlled trial\\nGathu CW, Shabani J, Kunyiha N, Ratansi R (2018\\nThis study seeks to assess the effectiveness ) of DSME and also compare the effects of DSME by certified diabetes educators and family physicians.\\nRCT\\n96 participants\\n4\\nThe effect of diabetes self-management education on body weight, glycemic control, and other metabolic markers in patients with type 2 diabetes mellitus\\nYuan C, Lai CW, Chan LW,\\net al.\\n(2014)\\nTo comprehensively evaluate the effect (DSME) on metabolic markers and atherosclerotic parameters in patients with type 2 diabetes.\\nQuasi-Experiment\\n76 participants\\n5\\nDiabetes self-management education improves quality of care and clinical outcomes determined by a diabetes bundle measure\\nBrunisholz KD, Briot P, Hamilton S,\\net al.\\n(2014)\\nThis study aims to determine the impact of the DSME intervention by measuring HbA1c and diabetes bundle components so that diabetes care can be improved.\\nA retrospective case-control study\\n4.587 participants\\n6\\nThe effect of diabetes self-management education on Hba1c level and fasting blood sugar in type 2 diabetes mellitus patients in primary health care in Binjai City of North Sumatera, Indonesia\\nRusdiana, Savira M, Amelia R (2018)\\nTo evaluate HbA1c levels and fasting blood sugar in T2DM patients after the DSME intervention was carried out in Binjai City, North Sumatra, Indonesia.\\nQuasi-experiment\\n80 participants\\n7\\nDiabetes self-management education and medical nutrition therapy: a multisite study documenting the efficacy of registered dietitian nutritionist interventions in the management of glycemic control and diabetic dyslipidemia through retrospective chart review\\nMarincic PZ, Salazar MV, Hardin A,\\net al.\\n(2018)\\nDocument outcomes for patients with type 2 diabetes(T2D) completing DSME and MNT through American Diabetes Association-recognized programs.\\nDescriptive, retrospective chart review\\n100 participants\\n8\\nEffect of diabetes self-management education (DSME) on glycated hemoglobin (HbA1c) level among patients with T2DM: Systematic review and meta-analysis of randomized controlled trials\\nBekele BB, Negash S, Bogale B,\\net al.\\n(2020)\\nThe aim of this systematic review and meta-analysis (SRMA) was to evaluate the Diabetes Self-Management Education or Support (DSME/S) on glycosylated hemoglobin (HbA1c) among T2DM patients.\\nSystematic review and meta-analysis (PRISMA) guidelines\\n25 studies\\n9\\nEffects of diabetes self-management education on glycaemic control in children with insulin-dependent diabetes mellitus.\\nQayyum AA, Lone SW, Ibrahim MN,\\net al.\\n(2010)\\nTo evaluate the effect of diabetes self-management education (DSME) on glycemic control (HbA1c) in Pakistani children suffering from type-1 diabetes mellitus.\\nQuasi-experiment\\n50 participants\\n10\\nEffectiveness of diabetes self-management education on quality of life in diabetic elderly females\\nKargar Jahromi M, Ramezanli S, Taheri L. (2014)\\nThe aim of the present study was to determine the effectiveness of diabetes self-management education on quality of life in elderly females with diabetic mellitus (type 2) in Shiraz, Iran, 2013.\\nQuasi-experiment\\n90 participants\\n11\\nThe effect of self-management education through weblogs on the quality of life of diabetic patients\\nRasoul AM, Jalali R, Abdi A, Salari N,\\net al.\\n(2019)\\nThe aim of determining the effect of self-management education through weblogs on the quality of life of affect the patients.\\nQuasi-experiment\\n98 participants\\n12\\nDM-calendar app as a diabetes self-management education on adult type 2 diabetes mellitus: a randomized controlled trial\\nKusnanto, Widyanata KAJ, Suprajitno, Arifin H (2019)\\nThe aim was to evaluate the effect of diabetes mellitus calendar app as a Diabetes Self-Management Education (DSME) program on self-efficacy, HbA1c levels, lipid profile, and insulin in adult type 2 diabetes mellitus (T2DM).\\nRandomized controlled trial\\n30 participants\\n13\\nEffect of a nurse-led diabetes self-management education program on glycosylated hemoglobin among adults with type 2 diabetes\\nAzami G, Soh KL, Sazlina SG, Salmiah MS,\\net al.\\n(2018)\\nThe aim of this study was to investigate the effectiveness of a nurse-led diabetes self-management education on glycosylated hemoglobin.\\nQuasi-Experiment\\n71 participants\\n14\\nEffects of an outpatient diabetes self-management education on patients with type 2 diabetes in China: A randomized controlled trial\\nZheng F, Liu S, Liu Y, Deng L (2019)\\nThis study is aimed at assessing the effectiveness of a simple outpatient diabetes self-management education program.\\nRandomized controlled trial\\n60 participants\\n15\\nEffect of a community-based diabetes self-management empowerment program on mental health-related quality of life: a causal mediation analysis from a randomized controlled trial\\nSugiyama T, Steers WN, Wenger NS,\\net al.\\n(2015)\\nThe aim of this systematic review and meta-analysis is to investigate the association between DSME or suppor (DSME/S) and glycemic control among T2DM patients.\\nRandomized t controlled trial\\n516 participants\\nOpen in a new tab\\nThe DSME intervention given to T2DM patients in Ethiopia had a positive impact, such as an increase in knowledge and adherence to diet therapy, exercise, glucose monitoring, and wound care.\\n10\\nIn line with that, another study explained that DSME significantly improved medication adherence, self-management behavior, knowledge, self-efficacy, and quality of life.\\n11-13\\nSeveral studies show that DSME interventions improve the quality of life.\\n14-17\\nThrough these interventions, bad behavior such as smoking and alcohol consumption can also be avoided or reduced.\\n10\\nSeveral interventions are also able to influence lifestyle changes such as increasing the duration of exercises (cycling, walking, aerobics), reducing smoking habits, and increasing the consumption of fruits and vegetables.\\n18\\nLifestyle changes caused by DSME interventions are expected to improve the clinical and health status of T2DM patients. One study proved this showing DSME’s effectiveness in controlling fasting blood glucose, random blood glucose, total cholesterol, and triglycerides.\\n11\\nIn line with that, other studies also showed that DSME can influence glycemic control, body weight and BMI control.\\n11\\n,\\n19-21\\nApart from data homogeneity in the article, another difference was found regarding the effect of DSME on HbA1c. Cunningham\\n14\\nstates that DSME does not significantly affect HbA1c. This is in contrast with other studies which explain that this intervention can significantly affect HbA1c.\\n21-26\\nAfter reviewing several studies, it is proven that DSME has a positive effect on the lifestyle and clinical or health status of T2DM patients. However, the implementation process could be influenced by several factors, namely: i) limited resources, ii) culture, iii) relationship with diabetes, and iv) relationship with clinic.\\nThis systematic review focuses on the effectiveness of DSME on T2DM disease progression. It is known that the DSME intervention provides benefits to the development of T2DM disease. The demonstrated benefits point to efforts to increase T2DM development through lifestyle changes and self-care for T2DM patients. Lifestyle changes such as exercising diligently, increasing consumption of fruits and vegetables, and avoiding smoking can improve the patient’s clinical condition and the patient’s health status.\\n18\\nThe clinical condition can be seen from the levels of blood glucose and HbA1c.\\nDSME has a positive effect on T2DM patients to improve their knowledge, behavior, self-efficacy, and clinical conditions of patients such as blood glucose levels, HbA1c, lipid profiles.\\n10\\n,\\n11\\n,\\n19-21\\nHowever, there were differences in results in studies involving HbA1c levels. The difference that lies in the presence or absence of this effect on HbA1c can be a concern in future studies to consider the determining factors that can influence it. Several studies in this review show that the effectiveness of DSME is influenced by education providers and support systems.\\n17\\n,\\n22\\n,\\n25\\n,\\n26\\nConclusions\\nBased on the 15 articles reviewed, it was found that DSME intervention provides significant effectiveness to lifestyle changes and the self-care of T2DM patients. Therefore, it improves the clinical or health status of T2DM patients.\\nAcknowledgment\\nThe authors are grateful to the co-authors and reviewers for this research.\\nFunding Statement\\nFunding:\\nThis research received no specific grant from any funding agency in the public, commercial, or not-for-profit sectors.\\nReferences\\n1.\\nMinistry of Health Republic of Indonesia. Basic Health Research\\n2018. Jakarta: Ministry of Health Republic of Indonesia; 2018.\\n[\\nGoogle Scholar\\n]\\n2.\\nWHO. World health statistics 2018: monitoring health for the SDGs. Geneva: WHO; 2018.\\n[\\nGoogle Scholar\\n]\\n3.\\nSasmiyanto S. [Faktor Presdiposisi Perilaku Kesehatan Penderita Diabetes Mellitus Tipe 2 (Predisposition factors of health behavior of type 2 diabetes mellitus patients)].[Article in Indonesian]. J Keperawatan Silampari\\n2020;3:466-76.\\n[\\nGoogle Scholar\\n]\\n4.\\nAmerican Association of Diabetes Educators. An effective model of diabetes care and education: Revising the AADE7 Self-Care Behaviors®. Diabetes Educ\\n2020;46:139-60.\\n[\\nDOI\\n] [\\nPubMed\\n] [\\nGoogle Scholar\\n]\\n5.\\nLee SK, Shin DH, Kim YH, et al. \\nEffect of diabetes education through pattern management on self-care and self-efficacy in patients with type 2 diabetes. Int J Environ Res Public Health\\n2019;16:3323.\\n[\\nDOI\\n] [\\nPMC free article\\n] [\\nPubMed\\n] [\\nGoogle Scholar\\n]\\n6.\\nRamadhani S, Fidiawan A, Andayani TM, et al. Pengaruh Self- Care terhadap Kadar Glukosa Darah Puasa Pasien Diabetes Melitus Tipe-2 (Effect of self-care on fasting blood glucose levels in type-2 diabetes mellitus patients)].[Article in Indonesian]. Jurnal Manajemen Dan Pelayanan Farmasi\\n2019;9:118-25.\\n[\\nGoogle Scholar\\n]\\n7.\\nAschner P. New IDF clinical practice recommendations for managing type 2 diabetes in primary care. Diabetes Res Clin Pract\\n2017;132:169-70.\\n[\\nDOI\\n] [\\nPubMed\\n] [\\nGoogle Scholar\\n]\\n8.\\nGhisi GLM, Aultman C, Konidis R, et al. Effectiveness of an education intervention associated with an exercise program in improving disease-related knowledge and health behaviours among diabetes patients. Patient Educ Couns\\n2020;103:1790-7.\\n[\\nDOI\\n] [\\nPubMed\\n] [\\nGoogle Scholar\\n]\\n9.\\nFan L, Sidani S.\\nFactors influencing preferences of adults with type 2 diabetes for diabetes self-management education interventions. Can J Diabetes\\n2018;42:645-51.\\n[\\nDOI\\n] [\\nPubMed\\n] [\\nGoogle Scholar\\n]\\n10.\\nHailu FB, Moen A, Hjortdahl P.\\nDiabetes self-management education (DSME) – Effect on knowledge, self-care behavior, and self-efficacy among type 2 diabetes patients in Ethiopia: A controlled clinical trial. Diabetes Metab Syndr Obes\\n2019;12:2489.\\n[\\nDOI\\n] [\\nPMC free article\\n] [\\nPubMed\\n] [\\nGoogle Scholar\\n]\\n11.\\nMikhael EM, Hassali MA, Hussain SA. Effectiveness of diabetes self-management educational programs for type 2 diabetes mellitus patients in middle east countries: A systematic review. Diabetes Metab Syndr Obes\\n2020;13:117.\\n[\\nDOI\\n] [\\nPMC free article\\n] [\\nPubMed\\n] [\\nGoogle Scholar\\n]\\n12.\\nKusnanto Widyanata KAJ, Suprajitno, et al. DM-calendar app as a diabetes self-management education on adult type 2 diabetes mellitus: a randomized controlled trial. J Diabetes Metab Disord\\n2019;18:557–63.\\n[\\nDOI\\n] [\\nPMC free article\\n] [\\nPubMed\\n] [\\nGoogle Scholar\\n]\\n13.\\nAzami G, Soh KL, Sazlina SG, et al. Effect of a nurse-led diabetes self-management education program on glycosylated hemoglobin among adults with type 2 diabetes. J Diabetes Res\\n2018;2018:1-12.\\n[\\nDOI\\n] [\\nPMC free article\\n] [\\nPubMed\\n] [\\nGoogle Scholar\\n]\\n14.\\nCunningham AT, Crittendon DR, White N, et al. The effect of diabetes self-management education on HbA1c and quality of life in African-Americans: A systematic review and meta-analysis. BMC Health Serv Res\\n2018;18:1-13.\\n[\\nDOI\\n] [\\nPMC free article\\n] [\\nPubMed\\n] [\\nGoogle Scholar\\n]\\n15.\\nJahromi MK, Ramezanli S, Taheri L.\\nEffectiveness of diabetes self-management education on quality of life in diabetic elderly females. Glob J Health Sci\\n2015;7:10.\\n[\\nDOI\\n] [\\nPMC free article\\n] [\\nPubMed\\n] [\\nGoogle Scholar\\n]\\n16.\\nRasoul AM, Jalali R, Abdi A, et al. The effect of self-management education through weblogs on the quality of life of diabetic patients. BMC Med Inform Decis Mak\\n2019;19:1-12.\\n[\\nDOI\\n] [\\nPMC free article\\n] [\\nPubMed\\n] [\\nGoogle Scholar\\n]\\n17.\\nSugiyama T, Steers WN, Wenger NS, et al. Effect of a community- based diabetes self-management empowerment program on mental health-related quality of life: A causal mediation analysis from a randomized controlled trial. BMC Health Serv Res\\n2015;15:1-9.\\n[\\nDOI\\n] [\\nPMC free article\\n] [\\nPubMed\\n] [\\nGoogle Scholar\\n]\\n18.\\nCarmienke S, Baumert J, Gabrys L, et al. Participation in structured diabetes mellitus self-management education program and association with lifestyle behavior: Results from a population- based study. BMJ Open Diabetes Res Care\\n2020;8:e001066.\\n[\\nDOI\\n] [\\nPMC free article\\n] [\\nPubMed\\n] [\\nGoogle Scholar\\n]\\n19.\\nYuan C, Lai CWK, Chan LWC, et al. The effect of diabetes self-management education on body weight, glycemic control, and other metabolic markers in patients with type 2 diabetes mellitus. J Diabetes Res\\n2014;2014:1-6.\\n[\\nDOI\\n] [\\nPMC free article\\n] [\\nPubMed\\n] [\\nGoogle Scholar\\n]\\n20.\\nMarincic PZ, Salazar MV, Hardin A, et al. Diabetes self-management education and medical nutrition therapy: A multisite study documenting the efficacy of registered dietitian nutritionist interventions in the management of glycemic control and diabetic dyslipidemia through retrospective chart rev. J Acad Nutr Diet\\n2019;119:449-63.\\n[\\nDOI\\n] [\\nPubMed\\n] [\\nGoogle Scholar\\n]\\n21.\\nZheng F, Liu S, Liu Y, et al. Effects of an outpatient diabetes self-management education on patients with type 2 diabetes in China: A randomized controlled trial. J Diabetes Res\\n2019;2019:1073131.\\n[\\nDOI\\n] [\\nPMC free article\\n] [\\nPubMed\\n] [\\nGoogle Scholar\\n]\\n22.\\nGathu CW, Shabani J, Kunyiha N, et al. Effect of diabetes selfmanagement education on glycaemic control among type 2 diabetic patients at a family medicine clinic in Kenya: A randomised controlled trial. African J Prim Heal Care Fam Med\\n2018;10:1-9.\\n[\\nDOI\\n] [\\nPMC free article\\n] [\\nPubMed\\n] [\\nGoogle Scholar\\n]\\n23.\\nBrunisholz KD, Briot P, Hamilton S, et al. Diabetes self-management education improves quality of care and clinical outcomes determined by a diabetes bundle measure. J Multidiscip Healthc\\n2014;7:533.\\n[\\nDOI\\n] [\\nPMC free article\\n] [\\nPubMed\\n] [\\nGoogle Scholar\\n]\\n24.\\nRusdiana Savira M, Amelia R.\\nThe effect of diabetes selfmanagement education on Hba1c level and fasting blood sugar in type 2 diabetes mellitus patients in primary health care in Binjai city of north Sumatera, Indonesia. Open Access Maced J Med Sci\\n2018;6:715.\\n[\\nDOI\\n] [\\nPMC free article\\n] [\\nPubMed\\n] [\\nGoogle Scholar\\n]\\n25.\\nBekele BB, Negash S, Bogale B, et al. Effect of diabetes selfmanagement education (DSME) on glycated hemoglobin (HbA1c) level among patients with T2DM: Systematic review and meta-analysis of randomized controlled trials. Diabetes Metab Syndr Clin Res Rev\\n2020;15:177-85.\\n[\\nDOI\\n] [\\nPubMed\\n] [\\nGoogle Scholar\\n]\\n26.\\nQayyum AA, Lone SW, Ibrahim MN, et al. Effects of diabetes self-management education on glycaemic control in children with insulin-dependent diabetes mellitus. J Coll Physicians Surg Pakistan\\n2010;20:802-5.\\n[\\nPubMed\\n] [\\nGoogle Scholar\\n]\\nArticles from Journal of Public Health Research are provided here courtesy of\\nSAGE Publications\\nACTIONS\\nView on publisher site\\nPDF (147.0\\xa0KB)\\nCite\\nCollections\\nPermalink\\nPERMALINK\\nCopy\\nRESOURCES\\nSimilar articles\\nCited by other articles\\nLinks to NCBI Databases\\nCite\\nCopy\\nDownload .nbib\\n.nbib\\nFormat:\\nAMA\\nAPA\\nMLA\\nNLM\\nAdd to Collections\\nName your collection\\n*\\nChoose a collection\\nUnable to load your collection due to an error\\nPlease try again\\nAdd\\nCancel\\nFollow NCBI\\nNCBI on X (formerly known as Twitter)\\nNCBI on Facebook\\nNCBI on LinkedIn\\nNCBI on GitHub\\nNCBI RSS feed\\nConnect with NLM\\nNLM on X (formerly known as Twitter)\\nNLM on Facebook\\nNLM on YouTube\\nNational Library of Medicine\\n8600 Rockville Pike\\nBethesda, MD 20894\\nWeb Policies\\nFOIA\\nHHS Vulnerability Disclosure\\nHelp\\nAccessibility\\nCareers\\nNLM\\nNIH\\nHHS\\nUSA.gov\\nBack to Top\"}]"
      ]
     },
     "execution_count": 9,
     "metadata": {},
     "output_type": "execute_result"
    }
   ],
   "source": [
    "messages_for(res)"
   ]
  },
  {
   "cell_type": "code",
   "execution_count": null,
   "id": "e07d00e7-1b87-4ca8-a69d-4a206e34a2b2",
   "metadata": {},
   "outputs": [],
   "source": [
    "# And now: call the OpenAI API. You will get very familiar with this!\n",
    "\n",
    "def summarize(url):\n",
    "    paper = Paper(url)\n",
    "    response = openai.chat.completions.create(\n",
    "        model = \"gpt-4o-mini\",\n",
    "        messages = messages_for(paper)\n",
    "    )\n",
    "    return response.choices[0].message.content"
   ]
  },
  {
   "cell_type": "code",
   "execution_count": null,
   "id": "5c12df95-1700-47ee-891b-96b0a7227bdd",
   "metadata": {},
   "outputs": [],
   "source": [
    "# A function to display this nicely in the Jupyter output, using markdown\n",
    "\n",
    "def display_summary(url):\n",
    "    summary = summarize(url)\n",
    "    display(Markdown(summary))"
   ]
  },
  {
   "cell_type": "code",
   "execution_count": null,
   "id": "05cff05f-2b74-44a4-9dbd-57c08f8f56cb",
   "metadata": {
    "scrolled": true
   },
   "outputs": [],
   "source": [
    "# Insert Paper URL in the quotes below\n",
    "display_summary(\" \")"
   ]
  }
 ],
 "metadata": {
  "kernelspec": {
   "display_name": "Python 3 (ipykernel)",
   "language": "python",
   "name": "python3"
  },
  "language_info": {
   "codemirror_mode": {
    "name": "ipython",
    "version": 3
   },
   "file_extension": ".py",
   "mimetype": "text/x-python",
   "name": "python",
   "nbconvert_exporter": "python",
   "pygments_lexer": "ipython3",
   "version": "3.11.12"
  }
 },
 "nbformat": 4,
 "nbformat_minor": 5
}
